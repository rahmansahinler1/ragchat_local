{
 "cells": [
  {
   "cell_type": "code",
   "execution_count": 1207,
   "metadata": {},
   "outputs": [],
   "source": [
    "from pathlib import Path\n",
    "import re\n",
    "import fitz\n",
    "import numpy as np\n",
    "from openai import OpenAI\n",
    "from dotenv import load_dotenv\n",
    "from typing import List\n",
    "import faiss\n"
   ]
  },
  {
   "cell_type": "code",
   "execution_count": 1208,
   "metadata": {},
   "outputs": [],
   "source": [
    "load_dotenv()\n",
    "client = OpenAI()"
   ]
  },
  {
   "cell_type": "code",
   "execution_count": 1275,
   "metadata": {},
   "outputs": [],
   "source": [
    "path = Path(\"/Users/ozgur.sahin/Documents/ragchat_local/docs/domain1/2024_1689.pdf\")"
   ]
  },
  {
   "cell_type": "code",
   "execution_count": 1243,
   "metadata": {},
   "outputs": [],
   "source": [
    "#extract header and sentences function\n",
    "doc = fitz.open(path)\n",
    "page_sentences = {\n",
    "    \"sentence\" : [],\n",
    "    \"is_header\" : [],\n",
    "    \"page_num\" : [],\n",
    "    \"boost\" : []\n",
    " } \n",
    "doc.metadata\n",
    "for page_num in range(len(doc)):\n",
    "        page = doc.load_page(page_num)\n",
    "\n",
    "        block_text = page.get_text(\"blocks\")\n",
    "        text_blocks = [block for block in blocks if block[\"type\"] == 0]\n",
    "        \n",
    "        blocks = page.get_text(\"dict\")[\"blocks\"]\n",
    "        for i,block in enumerate(text_blocks):\n",
    "            if \"lines\" in block and len(block[\"lines\"]) >= 1 and len(block[\"lines\"]) < 3:\n",
    "                for line in block[\"lines\"]:\n",
    "                    for span in line[\"spans\"]:\n",
    "                        text = span[\"text\"]\n",
    "                        previous_text = text\n",
    "                        if span[\"size\"] > 8 and (span[\"font\"].find(\"Medi\") >0 or span[\"font\"].find(\"Bold\") >0 or span[\"font\"].find(\"B\") >0) and len(text) > 3 and text[0].isupper():\n",
    "                            current_header = text\n",
    "                            page_sentences[\"sentence\"].append(text)\n",
    "                            page_sentences[\"is_header\"].append(1)\n",
    "                            page_sentences[\"page_num\"].append(page_num+1)\n",
    "                            page_sentences[\"boost\"].append(0)\n",
    "                        elif len(text) > 3:\n",
    "                            page_sentences[\"sentence\"].append(text)\n",
    "                            page_sentences[\"is_header\"].append(0)\n",
    "                            page_sentences[\"page_num\"].append(page_num+1)\n",
    "                            page_sentences[\"boost\"].append(0)\n",
    "            elif \"lines\" in block:\n",
    "                for sent_num in range(len(block_text[i][4].split('. '))):\n",
    "                        sentence = re.split(r'(?<=[.!?])\\s+', block_text[i][4])[sent_num].strip()\n",
    "                        sentence = re.sub(r'(\\b\\w+)\\s*\\n\\s*(\\w+\\b)',r'\\1 \\2',sentence)\n",
    "                        sentence = re.sub(r'(\\w+)-\\s+(\\w+)', r'\\1\\2', sentence)\n",
    "                        sentence = re.sub(r'[,()]\\s*\\n\\s*(\\w+)',r' \\1',sentence)\n",
    "                        sentence = re.sub(r'(\\b\\w+)\\s*-\\s*(\\w+\\b)',r'\\1 \\2',sentence)\n",
    "                        sentence = re.sub(r'(\\w+)\\s*[-–]\\s*(\\w+)',r'\\1\\2',sentence)\n",
    "                        sentence = sentence.replace('\\n','')\n",
    "                        if len(sentence) > 15:\n",
    "                            page_sentences[\"sentence\"].append(sentence)\n",
    "                            page_sentences[\"is_header\"].append(0)\n",
    "                            page_sentences[\"page_num\"].append(page_num + 1)\n",
    "                            page_sentences[\"boost\"].append(0)"
   ]
  },
  {
   "cell_type": "code",
   "execution_count": 1292,
   "metadata": {},
   "outputs": [
    {
     "data": {
      "text/plain": [
       "'24-07-11'"
      ]
     },
     "execution_count": 1292,
     "metadata": {},
     "output_type": "execute_result"
    }
   ],
   "source": [
    "f\"{doc.metadata['creationDate'][4:6]}-{doc.metadata['creationDate'][6:8]}-{doc.metadata['creationDate'][8:10]}\""
   ]
  },
  {
   "cell_type": "code",
   "execution_count": 1259,
   "metadata": {},
   "outputs": [
    {
     "name": "stdout",
     "output_type": "stream",
     "text": [
      "['REGULATION (EU) 2024/1689 OF THE EUROPEAN PARLIAMENT AND OF THE COUNCIL', 'GENERAL PROVISIONS', 'PROHIBITED AI PRACTICES', 'Prohibited AI practices', 'HIGH-RISK AI SYSTEMS', 'Classification of AI systems as high-risk', 'Classification rules for high-risk AI systems', 'Amendments to Annex III', 'Requirements for high-risk AI systems', 'Compliance with the requirements', 'Risk management system', 'Data and data governance', 'Technical documentation', 'Transparency and provision of information to deployers', 'Accuracy, robustness and cybersecurity', 'Obligations of providers and deployers of high-risk AI systems and other parties', 'Obligations of providers of high-risk AI systems', 'Quality management system', 'Documentation keeping', 'Automatically generated logs', 'Corrective actions and duty of information', 'Cooperation with competent authorities', 'Authorised representatives of providers of high-risk AI systems', 'Obligations of importers', 'Obligations of distributors', 'Responsibilities along the AI value chain', 'Obligations of deployers of high-risk AI systems', 'Fundamental rights impact assessment for high-risk AI systems', 'Notifying authorities and notified bodies', 'Notifying authorities', 'Application of a conformity assessment body for notification', 'Notification procedure', 'Requirements relating to notified bodies', 'Presumption of conformity with requirements relating to notified bodies', 'Subsidiaries of notified bodies and subcontracting', 'Operational obligations of notified bodies', 'Identification numbers and lists of notified bodies', 'Changes to notifications', 'Challenge to the competence of notified bodies', 'Coordination of notified bodies', 'Conformity assessment bodies of third countries', 'Standards, conformity assessment, certificates, registration', 'Harmonised standards and standardisation deliverables', 'Common specifications', 'Presumption of conformity with certain requirements', 'Conformity assessment', 'Information obligations of notified bodies', 'Derogation from conformity assessment procedure', 'EU declaration of conformity', 'TRANSPARENCY OBLIGATIONS FOR PROVIDERS AND DEPLOYERS OF CERTAIN AI SYSTEMS', 'Transparency obligations for providers and deployers of certain AI systems', 'GENERAL-PURPOSE AI MODELS', 'Classification rules', 'Classification of general-purpose AI models as general-purpose AI models with systemic risk', 'Obligations for providers of general-purpose AI models', 'Obligations for providers of general-purpose AI models', 'Authorised representatives of providers of general-purpose AI models', 'Obligations of providers of general-purpose AI models with systemic risk', 'Obligations of providers of general-purpose AI models with systemic risk', 'Codes of practice', 'Codes of practice', 'MEASURES IN SUPPORT OF INNOVATION', 'AI regulatory sandboxes', 'Detailed arrangements for, and functioning of, AI regulatory sandboxes', 'Further processing of personal data for developing certain AI systems in the public interest in the AI regulatory ', 'Testing of high-risk AI systems in real world conditions outside AI regulatory sandboxes', 'Informed consent to participate in testing in real world conditions outside AI regulatory sandboxes', 'Measures for providers and deployers, in particular SMEs, including start-ups', 'Derogations for specific operators', 'Governance at Union level', 'Establishment and structure of the European Artificial Intelligence Board', 'Tasks of the Board', 'Scientific panel of independent experts', 'Access to the pool of experts by the Member States', 'National competent authorities', 'Designation of national competent authorities and single points of contact', 'EU DATABASE FOR HIGH-RISK AI SYSTEMS', 'EU database for high-risk AI systems listed in Annex III', 'POST-MARKET MONITORING, INFORMATION SHARING AND MARKET SURVEILLANCE', 'Post-market monitoring', 'Post-market monitoring by providers and post-market monitoring plan for high-risk AI systems', 'Sharing of information on serious incidents', 'Reporting of serious incidents', 'Market surveillance and control of AI systems in the Union market', 'Mutual assistance, market surveillance and control of general-purpose AI systems', 'Supervision of testing in real world conditions by market surveillance authorities', 'Powers of authorities protecting fundamental rights', 'Procedure at national level for dealing with AI systems presenting a risk', 'Procedure for dealing with AI systems classified by the provider as non-high-risk in application of Annex III', 'Union safeguard procedure', 'Compliant AI systems which present a risk', 'Formal non-compliance', 'Union AI testing support structures', 'Right to lodge a complaint with a market surveillance authority', 'Right to explanation of individual decision-making', 'Reporting of infringements and protection of reporting persons', 'Supervision, investigation, enforcement and monitoring in respect of providers of general-purpose AI models', 'Enforcement of the obligations of providers of general-purpose AI models', 'Monitoring actions', 'Alerts of systemic risks by the scientific panel', 'Power to request documentation and information', 'Power to conduct evaluations', 'Power to request measures', 'Procedural rights of economic operators of the general-purpose AI model', 'CODES OF CONDUCT AND GUIDELINES', 'Codes of conduct for voluntary application of specific requirements', 'Guidelines from the Commission on the implementation of this Regulation', 'DELEGATION OF POWER AND COMMITTEE PROCEDURE', 'Exercise of the delegation', 'Committee procedure', 'Administrative fines on Union institutions, bodies, offices and agencies', 'Fines for providers of general-purpose AI models', 'FINAL PROVISIONS', 'Amendment to Regulation (EC) No 300/2008', 'Amendment to Regulation (EU) No 167/2013', 'Amendment to Regulation (EU) No 168/2013', 'Amendment to Directive 2014/90/EU', 'Amendment to Directive (EU) 2016/797', 'Amendment to Regulation (EU) 2018/858', 'Amendments to Regulation (EU) 2018/1139', 'Amendment to Regulation (EU) 2019/2144', 'Amendment to Directive (EU) 2020/1828', 'AI systems already placed on the market or put into service and general-purpose AI models already placed on the ', 'Evaluation and review', 'Entry into force and application', 'List of Union harmonisation legislation', 'List of criminal offences referred to in Article 5(1), first subparagraph, point (h)(iii)', 'High-risk AI systems referred to in Article 6(2)', 'Technical documentation referred to in Article 11(1)', 'EU declaration of conformity', 'Conformity assessment procedure based on internal control', 'Conformity based on an assessment of the quality management system and an assessment of the ', 'Information to be submitted upon the registration of high-risk AI systems in accordance with ', 'Information to be submitted upon the registration of high-risk AI systems listed in Annex III in ', 'Technical documentation referred to in Article 53(1), point (a) — technical documentation for ', 'Criteria for the designation of general-purpose AI models with systemic risk referred to in Article 51']\n",
      "[0, 946, 1087, 1088, 1134, 1135, 1136, 1152, 1176, 1177, 1181, 1200, 1224, 1241, 1279, 1288, 1289, 1308, 1329, 1336, 1338, 1340, 1342, 1355, 1365, 1369, 1384, 1408, 1421, 1422, 1425, 1430, 1434, 1445, 1448, 1451, 1453, 1455, 1481, 1484, 1487, 1489, 1490, 1495, 1509, 1511, 1536, 1554, 1563, 1582, 1583, 1596, 1597, 1598, 1612, 1613, 1628, 1639, 1640, 1651, 1652, 1671, 1672, 1706, 1729, 1753, 1779, 1787, 1801, 1803, 1806, 1826, 1860, 1884, 1886, 1887, 1901, 1902, 1910, 1911, 1912, 1919, 1920, 1927, 1945, 1950, 1956, 1971, 1989, 1992, 1996, 2001, 2009, 2011, 2014, 2015, 2018, 2019, 2022, 2029, 2039, 2044, 2053, 2060, 2065, 2066, 2077, 2089, 2090, 2099, 2128, 2144, 2158, 2159, 2163, 2168, 2172, 2176, 2181, 2185, 2198, 2202, 2206, 2211, 2233, 2245, 2270, 2286, 2333, 2365, 2369, 2371, 2416, 2444, 2474, 2521]\n"
     ]
    }
   ],
   "source": [
    "#extract header from sentences function\n",
    "headers_list = {\n",
    "    \"header\" : [],\n",
    "    \"sentence_index\" : [],\n",
    "}\n",
    "for i,(sentence,is_header) in enumerate(zip(page_sentences[\"sentence\"],page_sentences[\"is_header\"])):\n",
    "    if is_header == 1:\n",
    "        headers_list[\"header\"].append(sentence)\n",
    "        headers_list[\"sentence_index\"].append(i)\n",
    "\n",
    "print(headers_list[\"header\"])\n",
    "print(headers_list[\"sentence_index\"])"
   ]
  },
  {
   "cell_type": "code",
   "execution_count": 1215,
   "metadata": {},
   "outputs": [],
   "source": [
    "def create_vector_embeddings_from_sentences(\n",
    "            sentences: List[str],\n",
    "            batch_size: int = 2000\n",
    "        ):\n",
    "        file_embeddings = []\n",
    "        batches = [sentences[i:i+batch_size] for i in range(0,len(sentences), batch_size)]\n",
    "        \n",
    "        for batch in batches:\n",
    "            sentence_embedding = client.embeddings.create(\n",
    "                model=\"text-embedding-ada-002\", input=batch\n",
    "            )\n",
    "            file_embeddings.extend(sentence_embedding.data)\n",
    "\n",
    "        return np.array(\n",
    "            [x.embedding for x in file_embeddings], float\n",
    "        )"
   ]
  },
  {
   "cell_type": "code",
   "execution_count": 1216,
   "metadata": {},
   "outputs": [],
   "source": [
    "def create_vector_embedding_from_query(query):\n",
    "        query_embedding = client.embeddings.create(\n",
    "            model=\"text-embedding-ada-002\", input=query\n",
    "        )\n",
    "        return np.array(query_embedding.data[0].embedding, float).reshape(1, -1)"
   ]
  },
  {
   "cell_type": "code",
   "execution_count": 1217,
   "metadata": {},
   "outputs": [],
   "source": [
    "def create_flat_index(embeddings:np.ndarray\n",
    "        ):\n",
    "        dimension = len(embeddings[0])\n",
    "        index = faiss.IndexFlatL2(dimension)\n",
    "        index.add(embeddings)\n",
    "        return index"
   ]
  },
  {
   "cell_type": "code",
   "execution_count": 1246,
   "metadata": {},
   "outputs": [],
   "source": [
    "header_embed = create_vector_embeddings_from_sentences(headers_list['header'])"
   ]
  },
  {
   "cell_type": "code",
   "execution_count": 1247,
   "metadata": {},
   "outputs": [],
   "source": [
    "query = \"As a high-risk AI system provider, what are the information I should give to my users?\"\n",
    "query_embed = create_vector_embedding_from_query(query)"
   ]
  },
  {
   "cell_type": "code",
   "execution_count": 1248,
   "metadata": {},
   "outputs": [],
   "source": [
    "index = create_flat_index(header_embed)"
   ]
  },
  {
   "cell_type": "code",
   "execution_count": 1264,
   "metadata": {},
   "outputs": [],
   "source": [
    "#search and boost function\n",
    "D,I = index.search(query_embed,10)\n",
    "for sentence_num in I[0]:\n",
    "    start = headers_list['sentence_index'][sentence_num]\n",
    "    if headers_list['sentence_index'][sentence_num+1] < len(page_sentences['sentence']):\n",
    "        end = headers_list['sentence_index'][sentence_num+1]\n",
    "    else: \n",
    "        end = len(page_sentences['boost'])\n",
    "    for i in range(start,end):\n",
    "        page_sentences['boost'][i] = 1"
   ]
  },
  {
   "cell_type": "code",
   "execution_count": null,
   "metadata": {},
   "outputs": [],
   "source": []
  }
 ],
 "metadata": {
  "kernelspec": {
   "display_name": "venv",
   "language": "python",
   "name": "python3"
  },
  "language_info": {
   "codemirror_mode": {
    "name": "ipython",
    "version": 3
   },
   "file_extension": ".py",
   "mimetype": "text/x-python",
   "name": "python",
   "nbconvert_exporter": "python",
   "pygments_lexer": "ipython3",
   "version": "3.12.4"
  }
 },
 "nbformat": 4,
 "nbformat_minor": 2
}
