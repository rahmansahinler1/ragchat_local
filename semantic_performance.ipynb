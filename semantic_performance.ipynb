{
 "cells": [
  {
   "cell_type": "code",
   "execution_count": 2,
   "metadata": {},
   "outputs": [],
   "source": [
    "import numpy as np\n",
    "from dotenv import load_dotenv\n",
    "from openai import OpenAI\n",
    "import pickle\n",
    "import faiss"
   ]
  },
  {
   "cell_type": "code",
   "execution_count": 3,
   "metadata": {},
   "outputs": [],
   "source": [
    "load_dotenv()\n",
    "client = OpenAI()"
   ]
  },
  {
   "cell_type": "code",
   "execution_count": 4,
   "metadata": {},
   "outputs": [],
   "source": [
    "def create_vector_embedding_from_query(query):\n",
    "    query_embedding = client.embeddings.create(\n",
    "        model=\"text-embedding-ada-002\", input=query\n",
    "    )\n",
    "    return np.array(query_embedding.data[0].embedding, float).reshape(1, -1)"
   ]
  },
  {
   "cell_type": "code",
   "execution_count": 5,
   "metadata": {},
   "outputs": [],
   "source": [
    "def load_index(index_path: str):\n",
    "    with open(index_path, \"rb\") as f:\n",
    "        index_object = pickle.load(f)\n",
    "    return index_object"
   ]
  },
  {
   "cell_type": "code",
   "execution_count": 6,
   "metadata": {},
   "outputs": [],
   "source": [
    "def create_flat_index(embeddings:np.ndarray):\n",
    "    norms = np.linalg.norm(embeddings,axis=1,keepdims=True)\n",
    "    normalized_embeddings = embeddings/norms\n",
    "    dimension = len(normalized_embeddings[0])\n",
    "    index = faiss.IndexFlatIP(dimension)\n",
    "    index.add(normalized_embeddings)\n",
    "    return index\n",
    "\n",
    "def search_index(domain, index_list, query_embedding):\n",
    "    domain_number = int(domain[-1])\n",
    "    index_object = index_list[domain_number - 1]\n",
    "    index = create_flat_index(embeddings=index_object[\"embeddings\"])\n",
    "    return index.search(query_embedding, 10)\n"
   ]
  },
  {
   "cell_type": "code",
   "execution_count": 7,
   "metadata": {},
   "outputs": [],
   "source": [
    "index1 = load_index(f\"db/indexes/domain1.pickle\")\n",
    "index2 = load_index(f\"db/indexes/domain2.pickle\")\n",
    "index3 = load_index(f\"db/indexes/domain3.pickle\")\n",
    "index4 = load_index(f\"db/indexes/domain4.pickle\")\n",
    "index5 = load_index(f\"db/indexes/domain5.pickle\")\n",
    "index_list = [index1, index2, index3, index4, index5]"
   ]
  },
  {
   "cell_type": "code",
   "execution_count": 10,
   "metadata": {},
   "outputs": [],
   "source": [
    "domain = \"domain3\"\n",
    "query = \"What are the model selection steps\"\n",
    "query_embedding = create_vector_embedding_from_query(query)\n",
    "sentences = index_list[int(domain[-1]) - 1][\"sentences\"]"
   ]
  },
  {
   "cell_type": "code",
   "execution_count": 11,
   "metadata": {},
   "outputs": [
    {
     "name": "stdout",
     "output_type": "stream",
     "text": [
      "1. Distance:0.8685411214828491 || Sentence:Mode  Selection Strategy\n",
      "\n",
      "2. Distance:0.8293463587760925 || Sentence:In our  model , this s tep is  divid ed into two sub-steps .\n",
      "\n",
      "3. Distance:0.8226112127304077 || Sentence:Model  and actual result s on the sample\n",
      "\n",
      "4. Distance:0.8123400211334229 || Sentence:The first step is defining hybrid and  electri c mode selection  and the secon d step i s ICE and EM  power calcul ation  which will further b e used as the inputs for  fuel consumption and remaining SoC calculations .\n",
      "\n",
      "5. Distance:0.7996418476104736 || Sentence:Residency of the mode selection in the comple te data        Accordin g to the  selected mo de in the previous step, the  necessary  power outpu ts will be obtained .\n",
      "\n",
      "6. Distance:0.7987512350082397 || Sentence:Like it is mentioned in the CS  mode behavior se ction , the model run is repea ted three times  to  see the e ffect of the r andomness.\n",
      "\n",
      "7. Distance:0.7949002385139465 || Sentence:Section 3 explains the vehicle modeling  approach .\n",
      "\n",
      "8. Distance:0.7946370244026184 || Sentence:3. Mode selection probabili ty matri ces for two sample SoC  regions, (a) SoC range between  25% and 30% , (b) SoC range  between 70% and 75\n",
      "\n",
      "9. Distance:0.790752649307251 || Sentence:In section 2,  the  utilize d data for the  modeling  and verification is mentioned.\n",
      "\n",
      "10. Distance:0.7902902960777283 || Sentence:Section 5  modeling   results are shown .\n",
      "\n"
     ]
    }
   ],
   "source": [
    "D, I = search_index(domain=domain, index_list=index_list, query_embedding=query_embedding)\n",
    "for i, index in enumerate(I[0]):\n",
    "    print(f\"{i+1}. Similaritty:{D[0][i]} || Sentence:{sentences[index]}\\n\")"
   ]
  },
  {
   "cell_type": "code",
   "execution_count": null,
   "metadata": {},
   "outputs": [],
   "source": []
  }
 ],
 "metadata": {
  "kernelspec": {
   "display_name": ".venv",
   "language": "python",
   "name": "python3"
  },
  "language_info": {
   "codemirror_mode": {
    "name": "ipython",
    "version": 3
   },
   "file_extension": ".py",
   "mimetype": "text/x-python",
   "name": "python",
   "nbconvert_exporter": "python",
   "pygments_lexer": "ipython3",
   "version": "3.12.4"
  }
 },
 "nbformat": 4,
 "nbformat_minor": 2
}
