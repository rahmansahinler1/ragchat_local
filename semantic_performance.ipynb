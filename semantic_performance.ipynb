{
 "cells": [
  {
   "cell_type": "code",
   "execution_count": 45,
   "metadata": {},
   "outputs": [],
   "source": [
    "import numpy as np\n",
    "from dotenv import load_dotenv\n",
    "from openai import OpenAI\n",
    "import pickle\n",
    "import faiss\n",
    "import PyPDF2\n",
    "import spacy\n",
    "from pathlib import Path\n",
    "nlp = spacy.load(\n",
    "            \"en_core_web_sm\",\n",
    "            disable=[ \"tagger\", \"attribute_ruler\", \"lemmatizer\", \"ner\",\"textcat\",\"custom \"]\n",
    "        )\n",
    "from typing import List"
   ]
  },
  {
   "cell_type": "code",
   "execution_count": 46,
   "metadata": {},
   "outputs": [],
   "source": [
    "load_dotenv()\n",
    "client = OpenAI()"
   ]
  },
  {
   "cell_type": "code",
   "execution_count": 65,
   "metadata": {},
   "outputs": [],
   "source": [
    "path = Path(\"/Users/ozgur.sahin/Documents/ragchat_local/docs/domain1/2024_1689.pdf\")"
   ]
  },
  {
   "cell_type": "code",
   "execution_count": 49,
   "metadata": {},
   "outputs": [],
   "source": [
    "def read_file(file_path: str):\n",
    "        file_data = {\n",
    "            \"page_sentence_amount\": [],\n",
    "            \"sentences\": []\n",
    "        }\n",
    "        # Open file\n",
    "        path = Path(file_path)\n",
    "        file_extension = path.suffix.lower()\n",
    "        try:\n",
    "            if file_extension == '.pdf':\n",
    "                with path.open('rb') as file:\n",
    "                    pdf_reader = PyPDF2.PdfReader(file)\n",
    "                    for page in pdf_reader.pages:\n",
    "                        page_text = page.extract_text()\n",
    "                        _process_text(page_text, file_data)\n",
    "            \n",
    "            # elif file_extension == '.docx':\n",
    "            #     doc = Document(path)\n",
    "            #     for para in doc.paragraphs:\n",
    "            #         self._process_text(para.text, file_data)\n",
    "            \n",
    "            elif file_extension in ['.txt', '.rtf']:\n",
    "                text = path.read_text(encoding='utf-8')\n",
    "                _process_text(text, file_data)\n",
    "            \n",
    "            else:\n",
    "                raise ValueError(f\"Unsupported file type: {file_extension}\")\n",
    "        \n",
    "        except PyPDF2.errors.PdfReadError:\n",
    "            print(f\"Error reading PDF file: {path}. The file might be corrupted or incompatible.\")\n",
    "        except Exception as e:\n",
    "            print(f\"Error reading file: {path}. Error: {str(e)}\")\n",
    "    \n",
    "        return file_data\n",
    "\n",
    "def _process_text(text, file_data):\n",
    "        docs = nlp(text)\n",
    "        sentences = [sent.text.replace('\\n', ' ').strip() for sent in docs.sents]\n",
    "        valid_sentences = [sentence for sentence in sentences if len(sentence) > 15]\n",
    "        file_data[\"page_sentence_amount\"].append(len(valid_sentences))\n",
    "        file_data[\"sentences\"].extend(valid_sentences)"
   ]
  },
  {
   "cell_type": "code",
   "execution_count": 66,
   "metadata": {},
   "outputs": [],
   "source": [
    "file_data = read_file(path)"
   ]
  },
  {
   "cell_type": "code",
   "execution_count": 50,
   "metadata": {},
   "outputs": [],
   "source": [
    "def create_vector_embeddings_from_sentences(\n",
    "            sentences: List[str],\n",
    "            batch_size: int = 2000\n",
    "        ):\n",
    "        file_embeddings = []\n",
    "        batches = [sentences[i:i+batch_size] for i in range(0,len(sentences), batch_size)]\n",
    "        \n",
    "        for batch in batches:\n",
    "            sentence_embedding = client.embeddings.create(\n",
    "                model=\"text-embedding-ada-002\", input=batch\n",
    "            )\n",
    "            file_embeddings.extend(sentence_embedding.data)\n",
    "\n",
    "        return np.array(\n",
    "            [x.embedding for x in file_embeddings], float\n",
    "        )"
   ]
  },
  {
   "cell_type": "code",
   "execution_count": 67,
   "metadata": {},
   "outputs": [],
   "source": [
    "embed = create_vector_embeddings_from_sentences(file_data[\"sentences\"])"
   ]
  },
  {
   "cell_type": "code",
   "execution_count": 4,
   "metadata": {},
   "outputs": [],
   "source": [
    "def create_vector_embedding_from_query(query):\n",
    "    query_embedding = client.embeddings.create(\n",
    "        model=\"text-embedding-ada-002\", input=query\n",
    "    )\n",
    "    return np.array(query_embedding.data[0].embedding, float).reshape(1, -1)"
   ]
  },
  {
   "cell_type": "code",
   "execution_count": 5,
   "metadata": {},
   "outputs": [],
   "source": [
    "def load_index(index_path: str):\n",
    "    with open(index_path, \"rb\") as f:\n",
    "        index_object = pickle.load(f)\n",
    "    return index_object"
   ]
  },
  {
   "cell_type": "code",
   "execution_count": 59,
   "metadata": {},
   "outputs": [],
   "source": [
    "def create_IP_index(embeddings:np.ndarray):\n",
    "    norms = np.linalg.norm(embeddings,axis=1,keepdims=True)\n",
    "    normalized_embeddings = embeddings/norms\n",
    "    dimension = len(normalized_embeddings[0])\n",
    "    index = faiss.IndexFlatIP(dimension)\n",
    "    index.add(normalized_embeddings)\n",
    "    return index\n",
    "\n",
    "def search_index_IP(embeddings, query_embedding):\n",
    "    #domain_number = int(domain[-1])\n",
    "    #index_object = index_list[domain_number - 1]\n",
    "    index = create_IP_index(embeddings)\n",
    "    return index.search(query_embedding, 10)\n"
   ]
  },
  {
   "cell_type": "code",
   "execution_count": 60,
   "metadata": {},
   "outputs": [],
   "source": [
    "def create_flat_index(embeddings:np.ndarray):\n",
    "    #norms = np.linalg.norm(embeddings,axis=1,keepdims=True)\n",
    "    #normalized_embeddings = embeddings/norms\n",
    "    dimension = len(embeddings[0])\n",
    "    index = faiss.IndexFlatL2(dimension)\n",
    "    index.add(embeddings)\n",
    "    return index\n",
    "\n",
    "def search_index_flat(domain, index_list, query_embedding):\n",
    "    domain_number = int(domain[-1])\n",
    "    index_object = index_list[domain_number - 1]\n",
    "    index = create_flat_index(embeddings=index_object[\"embeddings\"])\n",
    "    return index.search(query_embedding, 10)\n"
   ]
  },
  {
   "cell_type": "code",
   "execution_count": 61,
   "metadata": {},
   "outputs": [],
   "source": [
    "index1 = load_index(f\"db/test/domain1.pickle\")\n",
    "index2 = load_index(f\"db/test/domain2.pickle\")\n",
    "index3 = load_index(f\"db/test/domain3.pickle\")\n",
    "index4 = load_index(f\"db/test/domain4.pickle\")\n",
    "index5 = load_index(f\"db/test/domain5.pickle\")\n",
    "index_list = [index1, index2, index3, index4, index5]"
   ]
  },
  {
   "cell_type": "code",
   "execution_count": 72,
   "metadata": {},
   "outputs": [],
   "source": [
    "domain = \"domain1\"\n",
    "query = \"As a high-risk AI system provider, what are the information I should give to my users?\"\n",
    "query_embedding = create_vector_embedding_from_query(query)\n",
    "sentences = index_list[int(domain[-1]) - 1][\"sentences\"]"
   ]
  },
  {
   "cell_type": "code",
   "execution_count": 73,
   "metadata": {},
   "outputs": [
    {
     "name": "stdout",
     "output_type": "stream",
     "text": [
      "1. Similaritty:0.8812803030014038 || Sentence:High-r isk AI systems should be accom panied by appropr iate information in the form of instr uctions of use.\n",
      "\n",
      "2. Similaritty:0.8760971426963806 || Sentence:Those  would cover information on possible kno wn and foreseeable circumstances related to the use of the high-r isk AI  syste m, including deplo yer action that may influence syste m behavio ur and perfor mance, under which the AI system  can lead to risks to health, safety, and fundamental rights, on the changes that have been pre-deter mined and  assessed for conf ormity by the provider and on the relevant human oversight measures, including the measures to  facilitate the inter pretation of the outputs of the AI syste m by the deplo yers.\n",
      "\n",
      "3. Similaritty:0.8646661043167114 || Sentence:The provider of a high-r isk AI system and the third party that supplies an AI syste m, tools, services, components, or  processes that are used or integrat ed in a high-r isk AI system shall, by written agreement, specify the necessar y information,  capabilities, technical access and other assistance based on the generally acknowledg ed state of the art, in order to enable  the provider of the high-r isk AI syste m to fully comply with the obliga tions set out in this Regulation.\n",
      "\n",
      "4. Similaritty:0.8636709451675415 || Sentence:Section 2 Additional information to be provided by provid ers of general-pur pose AI models with syste mic risk 1.\n",
      "\n",
      "5. Similaritty:0.858398973941803 || Sentence:Before using an AI syste m listed in the high-r isk use cases in an annex to this  Regulation, deplo yers of high-r isk AI systems that are public author ities, agencies or bodies, should regist er  themselves in such database and select the syste m that they envisag e to use.\n",
      "\n",
      "6. Similaritty:0.8572427034378052 || Sentence:In identifying the reasonably foreseeable misuse of high-r isk AI systems,  the provid er should cover uses of AI syste ms which, while not directly covered by the intende d purpose and  provided for in the instr uction for use may never theless be reasonably expected to result from readily predictable  human behavi our in the cont ext of the specif ic charact eristics and use of a particular AI syste m. Any kno wn or  foreseeable circumstances related to the use of the high-r isk AI syste m in accordance with its intended purpose or  under conditions of reasonably foreseeable misuse, which may lead to risks to the health and safety or fundamental  rights should be included in the instr uctions for use that are provid ed by the provider .\n",
      "\n",
      "7. Similaritty:0.8567748665809631 || Sentence:(66) Requirements should apply to high-r isk AI syste ms as regard s risk management, the quality and relevance of data  sets used, technical documentation and record-k eeping, transparency and the provision of information to deplo yers,  human oversight, and robustness, accuracy and cybersecur ity.\n",
      "\n",
      "8. Similaritty:0.8551990985870361 || Sentence:2. High-r isk AI systems shall be accompanied by instr uctions for use in an appropr iate digital format or other wise that  include concise, complet e, correct and clear information that is relevant, accessible and comp rehensible to deplo yers.\n",
      "\n",
      "9. Similaritty:0.8519551157951355 || Sentence:In this cont ext, providers should also be required to have a syste m in place to repor t to the relevant author ities any  serious incidents resulting from the use of their AI systems, meaning incident or malfunctioning leading to death or  serious damage to health, serious and irreversible disruption of the managem ent and operation of critical  infrastr ucture, infringements of obliga tions under Union law intended to prot ect fundamental rights or serious  damage to proper ty or the environment.\n",
      "\n",
      "10. Similaritty:0.8509427905082703 || Sentence:Before putting into service or using a high-r isk AI syste m at the workplace, deplo yers who are emplo yers shall inform  workers’ representatives and the affect ed work ers that they will be subject to the use of the high-r isk AI system.\n",
      "\n"
     ]
    }
   ],
   "source": [
    "D, I = search_index_IP(embeddings=embed, query_embedding=query_embedding)\n",
    "for i, index in enumerate(I[0]):\n",
    "    print(f\"{i+1}. Similaritty:{D[0][i]} || Sentence:{sentences[index]}\\n\")"
   ]
  },
  {
   "cell_type": "code",
   "execution_count": 74,
   "metadata": {},
   "outputs": [
    {
     "name": "stdout",
     "output_type": "stream",
     "text": [
      "1. Similaritty:0.2374396175146103 || Sentence:High-r isk AI systems should be accom panied by appropr iate information in the form of instr uctions of use.\n",
      "\n",
      "2. Similaritty:0.24780553579330444 || Sentence:Those  would cover information on possible kno wn and foreseeable circumstances related to the use of the high-r isk AI  syste m, including deplo yer action that may influence syste m behavio ur and perfor mance, under which the AI system  can lead to risks to health, safety, and fundamental rights, on the changes that have been pre-deter mined and  assessed for conf ormity by the provider and on the relevant human oversight measures, including the measures to  facilitate the inter pretation of the outputs of the AI syste m by the deplo yers.\n",
      "\n",
      "3. Similaritty:0.2706679105758667 || Sentence:The provider of a high-r isk AI system and the third party that supplies an AI syste m, tools, services, components, or  processes that are used or integrat ed in a high-r isk AI system shall, by written agreement, specify the necessar y information,  capabilities, technical access and other assistance based on the generally acknowledg ed state of the art, in order to enable  the provider of the high-r isk AI syste m to fully comply with the obliga tions set out in this Regulation.\n",
      "\n",
      "4. Similaritty:0.27265822887420654 || Sentence:Section 2 Additional information to be provided by provid ers of general-pur pose AI models with syste mic risk 1.\n",
      "\n",
      "5. Similaritty:0.28320223093032837 || Sentence:Before using an AI syste m listed in the high-r isk use cases in an annex to this  Regulation, deplo yers of high-r isk AI systems that are public author ities, agencies or bodies, should regist er  themselves in such database and select the syste m that they envisag e to use.\n",
      "\n",
      "6. Similaritty:0.2855146825313568 || Sentence:In identifying the reasonably foreseeable misuse of high-r isk AI systems,  the provid er should cover uses of AI syste ms which, while not directly covered by the intende d purpose and  provided for in the instr uction for use may never theless be reasonably expected to result from readily predictable  human behavi our in the cont ext of the specif ic charact eristics and use of a particular AI syste m. Any kno wn or  foreseeable circumstances related to the use of the high-r isk AI syste m in accordance with its intended purpose or  under conditions of reasonably foreseeable misuse, which may lead to risks to the health and safety or fundamental  rights should be included in the instr uctions for use that are provid ed by the provider .\n",
      "\n",
      "7. Similaritty:0.28645017743110657 || Sentence:(66) Requirements should apply to high-r isk AI syste ms as regard s risk management, the quality and relevance of data  sets used, technical documentation and record-k eeping, transparency and the provision of information to deplo yers,  human oversight, and robustness, accuracy and cybersecur ity.\n",
      "\n",
      "8. Similaritty:0.28960204124450684 || Sentence:2. High-r isk AI systems shall be accompanied by instr uctions for use in an appropr iate digital format or other wise that  include concise, complet e, correct and clear information that is relevant, accessible and comp rehensible to deplo yers.\n",
      "\n",
      "9. Similaritty:0.2960900664329529 || Sentence:In this cont ext, providers should also be required to have a syste m in place to repor t to the relevant author ities any  serious incidents resulting from the use of their AI systems, meaning incident or malfunctioning leading to death or  serious damage to health, serious and irreversible disruption of the managem ent and operation of critical  infrastr ucture, infringements of obliga tions under Union law intended to prot ect fundamental rights or serious  damage to proper ty or the environment.\n",
      "\n",
      "10. Similaritty:0.29811471700668335 || Sentence:Before putting into service or using a high-r isk AI syste m at the workplace, deplo yers who are emplo yers shall inform  workers’ representatives and the affect ed work ers that they will be subject to the use of the high-r isk AI system.\n",
      "\n"
     ]
    }
   ],
   "source": [
    "D, I = search_index_flat(domain=domain, index_list=index_list, query_embedding=query_embedding)\n",
    "for i, index in enumerate(I[0]):\n",
    "    print(f\"{i+1}. Similaritty:{D[0][i]} || Sentence:{sentences[index]}\\n\")"
   ]
  },
  {
   "cell_type": "code",
   "execution_count": null,
   "metadata": {},
   "outputs": [],
   "source": []
  }
 ],
 "metadata": {
  "kernelspec": {
   "display_name": ".venv",
   "language": "python",
   "name": "python3"
  },
  "language_info": {
   "codemirror_mode": {
    "name": "ipython",
    "version": 3
   },
   "file_extension": ".py",
   "mimetype": "text/x-python",
   "name": "python",
   "nbconvert_exporter": "python",
   "pygments_lexer": "ipython3",
   "version": "3.12.4"
  }
 },
 "nbformat": 4,
 "nbformat_minor": 2
}
