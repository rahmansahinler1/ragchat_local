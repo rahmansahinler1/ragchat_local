{
 "cells": [
  {
   "cell_type": "code",
   "execution_count": 8,
   "metadata": {},
   "outputs": [],
   "source": [
    "import numpy as np\n",
    "from dotenv import load_dotenv\n",
    "from openai import OpenAI\n",
    "import pickle\n",
    "import faiss"
   ]
  },
  {
   "cell_type": "code",
   "execution_count": 9,
   "metadata": {},
   "outputs": [],
   "source": [
    "load_dotenv()\n",
    "client = OpenAI()"
   ]
  },
  {
   "cell_type": "code",
   "execution_count": 10,
   "metadata": {},
   "outputs": [],
   "source": [
    "def create_vector_embedding_from_query(query):\n",
    "    query_embedding = client.embeddings.create(\n",
    "        model=\"text-embedding-ada-002\", input=query\n",
    "    )\n",
    "    return np.array(query_embedding.data[0].embedding, float).reshape(1, -1)"
   ]
  },
  {
   "cell_type": "code",
   "execution_count": 11,
   "metadata": {},
   "outputs": [],
   "source": [
    "def load_index(index_path: str):\n",
    "    with open(index_path, \"rb\") as f:\n",
    "        index_object = pickle.load(f)\n",
    "    return index_object"
   ]
  },
  {
   "cell_type": "code",
   "execution_count": 12,
   "metadata": {},
   "outputs": [],
   "source": [
    "def create_flat_index(embeddings:np.ndarray):\n",
    "    dimension = len(embeddings[0])\n",
    "    index = faiss.IndexFlatL2(dimension)\n",
    "    index.add(embeddings)\n",
    "    return index\n",
    "\n",
    "def search_index(domain, index_list, query_embedding):\n",
    "    domain_number = int(domain[-1])\n",
    "    index_object = index_list[domain_number - 1]\n",
    "    index = create_flat_index(embeddings=index_object[\"embeddings\"])\n",
    "    return index.search(query_embedding, 10)\n"
   ]
  },
  {
   "cell_type": "code",
   "execution_count": 13,
   "metadata": {},
   "outputs": [],
   "source": [
    "index1 = load_index(f\"db/indexes/domain1.pickle\")\n",
    "index2 = load_index(f\"db/indexes/domain2.pickle\")\n",
    "index3 = load_index(f\"db/indexes/domain3.pickle\")\n",
    "index4 = load_index(f\"db/indexes/domain4.pickle\")\n",
    "index5 = load_index(f\"db/indexes/domain5.pickle\")\n",
    "index_list = [index1, index2, index3, index4, index5]"
   ]
  },
  {
   "cell_type": "code",
   "execution_count": 14,
   "metadata": {},
   "outputs": [],
   "source": [
    "domain = \"domain1\"\n",
    "query = \"Sample question\"\n",
    "query_embedding = create_vector_embedding_from_query(query)\n",
    "sentences = index_list[int(domain[-1]) - 1][\"sentences\"]"
   ]
  },
  {
   "cell_type": "code",
   "execution_count": 36,
   "metadata": {},
   "outputs": [
    {
     "name": "stdout",
     "output_type": "stream",
     "text": [
      "1. Distance:0.4229208827018738 || Sentence:Before a measure is requested, the AI Office may initiate a structured dialogue with the provider of the  general-pur pose AI model.\n",
      "\n",
      "2. Distance:0.4235139489173889 || Sentence:A summar y of the main charact eristics of the plan for testing in real world conditions; 5.\n",
      "\n",
      "3. Distance:0.42375752329826355 || Sentence:Such sandbo xes may include testing in real world  conditions super vised therein.\n",
      "\n",
      "4. Distance:0.4407006502151489 || Sentence:Before sending the request for information, the AI Offi ce may initiate a structured dialogue with the provid er of the  general-pur pose AI model.\n",
      "\n",
      "5. Distance:0.4447948932647705 || Sentence:Any subjects of the testing in real world conditions, or their legally designated representative, as appropr iate, may,  without any resulting detr iment and without having to provide any justifi cation, withdra w from the testing at any time by  revok ing their informed consent and may request the immediate and permanent deletion of their personal data.\n",
      "\n",
      "6. Distance:0.4453551769256592 || Sentence:A Union-wide unique sing le identifica tion number of the testing in real world conditions; 2.\n",
      "\n",
      "7. Distance:0.4473689794540405 || Sentence:Article 2 Scope 1.\n",
      "\n",
      "8. Distance:0.448758602142334 || Sentence:That condition would, for exam ple, apply to AI syste ms that are intended to impro ve the language used in previously  draf ted documents, for exam ple in relation to profe ssional tone, academic style of languag e or by aligning text to  a certain brand messaging.\n",
      "\n",
      "9. Distance:0.44962286949157715 || Sentence:Article 61 Infor med consent to participate in testing in real world conditions outside AI regulat ory sandbo xes 1.\n",
      "\n",
      "10. Distance:0.449672669172287 || Sentence:(feedbac k loops).\n",
      "\n"
     ]
    }
   ],
   "source": [
    "D, I = search_index(domain=domain, index_list=index_list, query_embedding=query_embedding)\n",
    "for i, index in enumerate(I[0]):\n",
    "    print(f\"{i+1}. Distance:{D[0][i]} || Sentence:{sentences[index]}\\n\")"
   ]
  }
 ],
 "metadata": {
  "kernelspec": {
   "display_name": ".venv",
   "language": "python",
   "name": "python3"
  },
  "language_info": {
   "codemirror_mode": {
    "name": "ipython",
    "version": 3
   },
   "file_extension": ".py",
   "mimetype": "text/x-python",
   "name": "python",
   "nbconvert_exporter": "python",
   "pygments_lexer": "ipython3",
   "version": "3.12.3"
  }
 },
 "nbformat": 4,
 "nbformat_minor": 2
}
